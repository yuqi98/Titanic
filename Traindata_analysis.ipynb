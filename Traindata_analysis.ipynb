{
 "cells": [
  {
   "cell_type": "code",
   "execution_count": 42,
   "metadata": {},
   "outputs": [],
   "source": [
    "import csv\n",
    "with open('train.csv', 'r') as f:\n",
    "    reader = csv.reader(f)\n",
    "    train_list = list(reader)\n"
   ]
  },
  {
   "cell_type": "code",
   "execution_count": 43,
   "metadata": {},
   "outputs": [
    {
     "name": "stdout",
     "output_type": "stream",
     "text": [
      "892\n"
     ]
    }
   ],
   "source": [
    "length = len(train_list)\n",
    "print(length)"
   ]
  },
  {
   "cell_type": "code",
   "execution_count": 62,
   "metadata": {},
   "outputs": [
    {
     "name": "stdout",
     "output_type": "stream",
     "text": [
      "136\n",
      "216\n",
      "0.6296296296296297\n",
      "87\n",
      "184\n",
      "0.47282608695652173\n",
      "119\n",
      "491\n",
      "0.24236252545824846\n"
     ]
    }
   ],
   "source": [
    "p_class1=0\n",
    "q_class1=0\n",
    "p_class2=0\n",
    "q_class2=0\n",
    "p_class3=0\n",
    "q_class3=0\n",
    "for i in range(1,(length)):\n",
    "    if train_list[i][1] == '1' and train_list[i][2] == '1':\n",
    "        p_class1=p_class1+1\n",
    "    if train_list[i][2] == '1':\n",
    "        q_class1=q_class1+1\n",
    "    if train_list[i][1] == '1' and train_list[i][2] == '2':\n",
    "        p_class2=p_class2+1\n",
    "    if train_list[i][2] == '2':\n",
    "        q_class2=q_class2+1\n",
    "    if train_list[i][1] == '1' and train_list[i][2] == '3':\n",
    "        p_class3=p_class3+1\n",
    "    if train_list[i][2] == '3':\n",
    "        q_class3=q_class3+1\n",
    "print(p_class1)\n",
    "print(q_class1)\n",
    "print (p_class1/q_class1)\n",
    "print(p_class2)\n",
    "print(q_class2)\n",
    "print (p_class2/q_class2)\n",
    "print(p_class3)\n",
    "print(q_class3)\n",
    "print (p_class3/q_class3)\n",
    "    "
   ]
  },
  {
   "cell_type": "code",
   "execution_count": 61,
   "metadata": {},
   "outputs": [
    {
     "name": "stdout",
     "output_type": "stream",
     "text": [
      "109\n",
      "577\n",
      "233\n",
      "314\n",
      "0.18890814558058924 0.7420382165605095\n"
     ]
    }
   ],
   "source": [
    "p_sexm=0\n",
    "p_sexfe=0\n",
    "q_sexm=0\n",
    "q_sexfe=0\n",
    "for i in range(1,(length)):\n",
    "    if train_list[i][1] == '1' and train_list[i][4] == 'male':\n",
    "        p_sexm=p_sexm+1\n",
    "    if train_list[i][1] == '1' and train_list[i][4] == 'female':\n",
    "        p_sexfe=p_sexfe+1\n",
    "    if train_list[i][4] == 'male':\n",
    "        q_sexm=q_sexm+1\n",
    "    if train_list[i][4] == 'female':\n",
    "        q_sexfe=q_sexfe+1\n",
    "\n",
    "print(p_sexm)\n",
    "print(q_sexm)\n",
    "print(p_sexfe)\n",
    "print(q_sexfe)\n",
    "print(p_sexm/q_sexm,p_sexfe/q_sexfe)"
   ]
  },
  {
   "cell_type": "code",
   "execution_count": null,
   "metadata": {},
   "outputs": [],
   "source": []
  }
 ],
 "metadata": {
  "kernelspec": {
   "display_name": "Python 3",
   "language": "python",
   "name": "python3"
  },
  "language_info": {
   "codemirror_mode": {
    "name": "ipython",
    "version": 3
   },
   "file_extension": ".py",
   "mimetype": "text/x-python",
   "name": "python",
   "nbconvert_exporter": "python",
   "pygments_lexer": "ipython3",
   "version": "3.6.5"
  }
 },
 "nbformat": 4,
 "nbformat_minor": 2
}
